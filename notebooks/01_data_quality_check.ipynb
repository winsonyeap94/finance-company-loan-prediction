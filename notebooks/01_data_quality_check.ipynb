{
 "cells": [
  {
   "cell_type": "code",
   "execution_count": 19,
   "metadata": {},
   "outputs": [
    {
     "name": "stdout",
     "output_type": "stream",
     "text": [
      "The kedro.ipython extension is already loaded. To reload it, use:\n",
      "  %reload_ext kedro.ipython\n"
     ]
    }
   ],
   "source": [
    "%load_ext kedro.ipython"
   ]
  },
  {
   "cell_type": "code",
   "execution_count": 20,
   "metadata": {},
   "outputs": [],
   "source": [
    "import logging\n",
    "\n",
    "import numpy as np\n",
    "import pandas as pd\n",
    "import matplotlib.pyplot as plt\n",
    "import seaborn as sns\n",
    "\n",
    "pd.set_option(\"display.width\", None)\n",
    "pd.set_option(\"display.max_columns\", None)\n",
    "\n",
    "_logger = logging.getLogger(__name__)\n",
    "_logger.setLevel(logging.DEBUG)"
   ]
  },
  {
   "cell_type": "markdown",
   "metadata": {},
   "source": [
    "### Settings & Parameters"
   ]
  },
  {
   "cell_type": "code",
   "execution_count": null,
   "metadata": {},
   "outputs": [],
   "source": []
  },
  {
   "cell_type": "markdown",
   "metadata": {},
   "source": [
    "## Data Loading\n",
    "---"
   ]
  },
  {
   "cell_type": "code",
   "execution_count": 21,
   "metadata": {},
   "outputs": [
    {
     "data": {
      "text/html": [
       "<pre style=\"white-space:pre;overflow-x:auto;line-height:normal;font-family:Menlo,'DejaVu Sans Mono',consolas,'Courier New',monospace\"><span style=\"color: #7fbfbf; text-decoration-color: #7fbfbf\">[08/16/24 14:34:24] </span><span style=\"color: #000080; text-decoration-color: #000080\">INFO    </span> Loading data from preprocessed_train_dataset <span style=\"font-weight: bold\">(</span>FeatherDataset<span style=\"font-weight: bold\">)</span><span style=\"color: #808000; text-decoration-color: #808000\">...</span>   <a href=\"file:///home/winsonyeap/miniconda3/envs/finance-company-loan-prediction/lib/python3.11/site-packages/kedro/io/data_catalog.py\" target=\"_blank\"><span style=\"color: #7f7f7f; text-decoration-color: #7f7f7f\">data_catalog.py</span></a><span style=\"color: #7f7f7f; text-decoration-color: #7f7f7f\">:</span><a href=\"file:///home/winsonyeap/miniconda3/envs/finance-company-loan-prediction/lib/python3.11/site-packages/kedro/io/data_catalog.py#537\" target=\"_blank\"><span style=\"color: #7f7f7f; text-decoration-color: #7f7f7f\">537</span></a>\n",
       "</pre>\n"
      ],
      "text/plain": [
       "\u001b[2;36m[08/16/24 14:34:24]\u001b[0m\u001b[2;36m \u001b[0m\u001b[34mINFO    \u001b[0m Loading data from preprocessed_train_dataset \u001b[1m(\u001b[0mFeatherDataset\u001b[1m)\u001b[0m\u001b[33m...\u001b[0m   \u001b]8;id=822959;file:///home/winsonyeap/miniconda3/envs/finance-company-loan-prediction/lib/python3.11/site-packages/kedro/io/data_catalog.py\u001b\\\u001b[2mdata_catalog.py\u001b[0m\u001b]8;;\u001b\\\u001b[2m:\u001b[0m\u001b]8;id=390215;file:///home/winsonyeap/miniconda3/envs/finance-company-loan-prediction/lib/python3.11/site-packages/kedro/io/data_catalog.py#537\u001b\\\u001b[2m537\u001b[0m\u001b]8;;\u001b\\\n"
      ]
     },
     "metadata": {},
     "output_type": "display_data"
    },
    {
     "data": {
      "text/html": [
       "<pre style=\"white-space:pre;overflow-x:auto;line-height:normal;font-family:Menlo,'DejaVu Sans Mono',consolas,'Courier New',monospace\"><span style=\"color: #7fbfbf; text-decoration-color: #7fbfbf\">                    </span><span style=\"color: #000080; text-decoration-color: #000080\">INFO    </span> Loading data from preprocessed_test_dataset <span style=\"font-weight: bold\">(</span>FeatherDataset<span style=\"font-weight: bold\">)</span><span style=\"color: #808000; text-decoration-color: #808000\">...</span>    <a href=\"file:///home/winsonyeap/miniconda3/envs/finance-company-loan-prediction/lib/python3.11/site-packages/kedro/io/data_catalog.py\" target=\"_blank\"><span style=\"color: #7f7f7f; text-decoration-color: #7f7f7f\">data_catalog.py</span></a><span style=\"color: #7f7f7f; text-decoration-color: #7f7f7f\">:</span><a href=\"file:///home/winsonyeap/miniconda3/envs/finance-company-loan-prediction/lib/python3.11/site-packages/kedro/io/data_catalog.py#537\" target=\"_blank\"><span style=\"color: #7f7f7f; text-decoration-color: #7f7f7f\">537</span></a>\n",
       "</pre>\n"
      ],
      "text/plain": [
       "\u001b[2;36m                   \u001b[0m\u001b[2;36m \u001b[0m\u001b[34mINFO    \u001b[0m Loading data from preprocessed_test_dataset \u001b[1m(\u001b[0mFeatherDataset\u001b[1m)\u001b[0m\u001b[33m...\u001b[0m    \u001b]8;id=704288;file:///home/winsonyeap/miniconda3/envs/finance-company-loan-prediction/lib/python3.11/site-packages/kedro/io/data_catalog.py\u001b\\\u001b[2mdata_catalog.py\u001b[0m\u001b]8;;\u001b\\\u001b[2m:\u001b[0m\u001b]8;id=294976;file:///home/winsonyeap/miniconda3/envs/finance-company-loan-prediction/lib/python3.11/site-packages/kedro/io/data_catalog.py#537\u001b\\\u001b[2m537\u001b[0m\u001b]8;;\u001b\\\n"
      ]
     },
     "metadata": {},
     "output_type": "display_data"
    }
   ],
   "source": [
    "train_df = catalog.load(\"preprocessed_train_dataset\")\n",
    "test_df = catalog.load(\"preprocessed_test_dataset\")"
   ]
  },
  {
   "cell_type": "code",
   "execution_count": 22,
   "metadata": {},
   "outputs": [
    {
     "data": {
      "text/html": [
       "<pre style=\"white-space:pre;overflow-x:auto;line-height:normal;font-family:Menlo,'DejaVu Sans Mono',consolas,'Courier New',monospace\"><span style=\"color: #7fbfbf; text-decoration-color: #7fbfbf\">                    </span><span style=\"color: #000080; text-decoration-color: #000080\">INFO    </span> Train Dataset Size: <span style=\"font-weight: bold\">(</span><span style=\"color: #008080; text-decoration-color: #008080; font-weight: bold\">614</span>, <span style=\"color: #008080; text-decoration-color: #008080; font-weight: bold\">13</span><span style=\"font-weight: bold\">)</span>                                          <a href=\"file:///tmp/ipykernel_244196/1089489436.py\" target=\"_blank\"><span style=\"color: #7f7f7f; text-decoration-color: #7f7f7f\">1089489436.py</span></a><span style=\"color: #7f7f7f; text-decoration-color: #7f7f7f\">:</span><a href=\"file:///tmp/ipykernel_244196/1089489436.py#1\" target=\"_blank\"><span style=\"color: #7f7f7f; text-decoration-color: #7f7f7f\">1</span></a>\n",
       "</pre>\n"
      ],
      "text/plain": [
       "\u001b[2;36m                   \u001b[0m\u001b[2;36m \u001b[0m\u001b[34mINFO    \u001b[0m Train Dataset Size: \u001b[1m(\u001b[0m\u001b[1;36m614\u001b[0m, \u001b[1;36m13\u001b[0m\u001b[1m)\u001b[0m                                          \u001b]8;id=260783;file:///tmp/ipykernel_244196/1089489436.py\u001b\\\u001b[2m1089489436.py\u001b[0m\u001b]8;;\u001b\\\u001b[2m:\u001b[0m\u001b]8;id=484712;file:///tmp/ipykernel_244196/1089489436.py#1\u001b\\\u001b[2m1\u001b[0m\u001b]8;;\u001b\\\n"
      ]
     },
     "metadata": {},
     "output_type": "display_data"
    },
    {
     "data": {
      "text/html": [
       "<pre style=\"white-space:pre;overflow-x:auto;line-height:normal;font-family:Menlo,'DejaVu Sans Mono',consolas,'Courier New',monospace\"><span style=\"color: #7fbfbf; text-decoration-color: #7fbfbf\">                    </span><span style=\"color: #000080; text-decoration-color: #000080\">INFO    </span> Test Dataset Size: <span style=\"font-weight: bold\">(</span><span style=\"color: #008080; text-decoration-color: #008080; font-weight: bold\">367</span>, <span style=\"color: #008080; text-decoration-color: #008080; font-weight: bold\">12</span><span style=\"font-weight: bold\">)</span>                                           <a href=\"file:///tmp/ipykernel_244196/1089489436.py\" target=\"_blank\"><span style=\"color: #7f7f7f; text-decoration-color: #7f7f7f\">1089489436.py</span></a><span style=\"color: #7f7f7f; text-decoration-color: #7f7f7f\">:</span><a href=\"file:///tmp/ipykernel_244196/1089489436.py#2\" target=\"_blank\"><span style=\"color: #7f7f7f; text-decoration-color: #7f7f7f\">2</span></a>\n",
       "</pre>\n"
      ],
      "text/plain": [
       "\u001b[2;36m                   \u001b[0m\u001b[2;36m \u001b[0m\u001b[34mINFO    \u001b[0m Test Dataset Size: \u001b[1m(\u001b[0m\u001b[1;36m367\u001b[0m, \u001b[1;36m12\u001b[0m\u001b[1m)\u001b[0m                                           \u001b]8;id=52139;file:///tmp/ipykernel_244196/1089489436.py\u001b\\\u001b[2m1089489436.py\u001b[0m\u001b]8;;\u001b\\\u001b[2m:\u001b[0m\u001b]8;id=960412;file:///tmp/ipykernel_244196/1089489436.py#2\u001b\\\u001b[2m2\u001b[0m\u001b]8;;\u001b\\\n"
      ]
     },
     "metadata": {},
     "output_type": "display_data"
    },
    {
     "data": {
      "text/html": [
       "<pre style=\"white-space:pre;overflow-x:auto;line-height:normal;font-family:Menlo,'DejaVu Sans Mono',consolas,'Courier New',monospace\"><span style=\"color: #7fbfbf; text-decoration-color: #7fbfbf\">                    </span><span style=\"color: #000080; text-decoration-color: #000080\">INFO    </span> Loan IDs which are common between train and test: <span style=\"color: #008080; text-decoration-color: #008080; font-weight: bold\">0</span>                    <a href=\"file:///tmp/ipykernel_244196/1089489436.py\" target=\"_blank\"><span style=\"color: #7f7f7f; text-decoration-color: #7f7f7f\">1089489436.py</span></a><span style=\"color: #7f7f7f; text-decoration-color: #7f7f7f\">:</span><a href=\"file:///tmp/ipykernel_244196/1089489436.py#3\" target=\"_blank\"><span style=\"color: #7f7f7f; text-decoration-color: #7f7f7f\">3</span></a>\n",
       "</pre>\n"
      ],
      "text/plain": [
       "\u001b[2;36m                   \u001b[0m\u001b[2;36m \u001b[0m\u001b[34mINFO    \u001b[0m Loan IDs which are common between train and test: \u001b[1;36m0\u001b[0m                    \u001b]8;id=349647;file:///tmp/ipykernel_244196/1089489436.py\u001b\\\u001b[2m1089489436.py\u001b[0m\u001b]8;;\u001b\\\u001b[2m:\u001b[0m\u001b]8;id=910430;file:///tmp/ipykernel_244196/1089489436.py#3\u001b\\\u001b[2m3\u001b[0m\u001b]8;;\u001b\\\n"
      ]
     },
     "metadata": {},
     "output_type": "display_data"
    }
   ],
   "source": [
    "_logger.info(f\"Train Dataset Size: {train_df.shape}\")\n",
    "_logger.info(f\"Test Dataset Size: {test_df.shape}\")\n",
    "_logger.info(f\"Loan IDs which are common between train and test: {len(set(train_df['LOAN_ID']).intersection(set(test_df['LOAN_ID']))):,}\")"
   ]
  },
  {
   "cell_type": "code",
   "execution_count": 23,
   "metadata": {},
   "outputs": [
    {
     "data": {
      "text/html": [
       "<pre style=\"white-space:pre;overflow-x:auto;line-height:normal;font-family:Menlo,'DejaVu Sans Mono',consolas,'Courier New',monospace\"></pre>\n"
      ],
      "text/plain": []
     },
     "metadata": {},
     "output_type": "display_data"
    },
    {
     "data": {
      "text/plain": [
       "\n",
       "LOAN_ID               \u001b[1;36m0\u001b[0m\n",
       "GENDER                \u001b[1;36m0\u001b[0m\n",
       "MARRIED               \u001b[1;36m0\u001b[0m\n",
       "DEPENDENTS            \u001b[1;36m0\u001b[0m\n",
       "EDUCATION             \u001b[1;36m0\u001b[0m\n",
       "SELF_EMPLOYED         \u001b[1;36m0\u001b[0m\n",
       "APPLICANT_INCOME      \u001b[1;36m0\u001b[0m\n",
       "COAPPLICANT_INCOME    \u001b[1;36m0\u001b[0m\n",
       "LOAN_AMOUNT           \u001b[1;36m0\u001b[0m\n",
       "LOAN_AMOUNT_TERM      \u001b[1;36m0\u001b[0m\n",
       "CREDIT_HISTORY        \u001b[1;36m0\u001b[0m\n",
       "PROPERTY_AREA         \u001b[1;36m0\u001b[0m\n",
       "LOAN_STATUS           \u001b[1;36m0\u001b[0m\n",
       "dtype: int64"
      ]
     },
     "execution_count": 23,
     "metadata": {},
     "output_type": "execute_result"
    }
   ],
   "source": [
    "train_df.isna().sum()"
   ]
  },
  {
   "cell_type": "code",
   "execution_count": 27,
   "metadata": {},
   "outputs": [
    {
     "data": {
      "text/html": [
       "<pre style=\"white-space:pre;overflow-x:auto;line-height:normal;font-family:Menlo,'DejaVu Sans Mono',consolas,'Courier New',monospace\"></pre>\n"
      ],
      "text/plain": []
     },
     "metadata": {},
     "output_type": "display_data"
    },
    {
     "data": {
      "text/plain": [
       "\n",
       "LOAN_ID               \u001b[1;36m0\u001b[0m\n",
       "GENDER                \u001b[1;36m0\u001b[0m\n",
       "MARRIED               \u001b[1;36m0\u001b[0m\n",
       "DEPENDENTS            \u001b[1;36m0\u001b[0m\n",
       "EDUCATION             \u001b[1;36m0\u001b[0m\n",
       "SELF_EMPLOYED         \u001b[1;36m0\u001b[0m\n",
       "APPLICANT_INCOME      \u001b[1;36m0\u001b[0m\n",
       "COAPPLICANT_INCOME    \u001b[1;36m0\u001b[0m\n",
       "LOAN_AMOUNT           \u001b[1;36m0\u001b[0m\n",
       "LOAN_AMOUNT_TERM      \u001b[1;36m0\u001b[0m\n",
       "CREDIT_HISTORY        \u001b[1;36m0\u001b[0m\n",
       "PROPERTY_AREA         \u001b[1;36m0\u001b[0m\n",
       "dtype: int64"
      ]
     },
     "execution_count": 27,
     "metadata": {},
     "output_type": "execute_result"
    }
   ],
   "source": [
    "test_df.isna().sum()"
   ]
  },
  {
   "cell_type": "code",
   "execution_count": 24,
   "metadata": {},
   "outputs": [
    {
     "data": {
      "text/html": [
       "<pre style=\"white-space:pre;overflow-x:auto;line-height:normal;font-family:Menlo,'DejaVu Sans Mono',consolas,'Courier New',monospace\"></pre>\n"
      ],
      "text/plain": []
     },
     "metadata": {},
     "output_type": "display_data"
    },
    {
     "data": {
      "text/plain": [
       "\n",
       "LOAN_AMOUNT_TERM\n",
       "\u001b[1;36m360.0\u001b[0m    \u001b[1;36m512\u001b[0m\n",
       "\u001b[1;36m180.0\u001b[0m     \u001b[1;36m44\u001b[0m\n",
       "\u001b[1;36m480.0\u001b[0m     \u001b[1;36m15\u001b[0m\n",
       "\u001b[1;36m12.0\u001b[0m      \u001b[1;36m15\u001b[0m\n",
       "\u001b[1;36m300.0\u001b[0m     \u001b[1;36m13\u001b[0m\n",
       "\u001b[1;36m84.0\u001b[0m       \u001b[1;36m4\u001b[0m\n",
       "\u001b[1;36m240.0\u001b[0m      \u001b[1;36m4\u001b[0m\n",
       "\u001b[1;36m120.0\u001b[0m      \u001b[1;36m3\u001b[0m\n",
       "\u001b[1;36m60.0\u001b[0m       \u001b[1;36m2\u001b[0m\n",
       "\u001b[1;36m36.0\u001b[0m       \u001b[1;36m2\u001b[0m\n",
       "Name: count, dtype: int64"
      ]
     },
     "execution_count": 24,
     "metadata": {},
     "output_type": "execute_result"
    }
   ],
   "source": [
    "train_df['LOAN_AMOUNT_TERM'].value_counts()"
   ]
  },
  {
   "cell_type": "code",
   "execution_count": 25,
   "metadata": {},
   "outputs": [
    {
     "data": {
      "text/html": [
       "<pre style=\"white-space:pre;overflow-x:auto;line-height:normal;font-family:Menlo,'DejaVu Sans Mono',consolas,'Courier New',monospace\"></pre>\n"
      ],
      "text/plain": []
     },
     "metadata": {},
     "output_type": "display_data"
    },
    {
     "data": {
      "text/plain": [
       "\n",
       "SELF_EMPLOYED\n",
       "No     \u001b[1;36m532\u001b[0m\n",
       "Yes     \u001b[1;36m82\u001b[0m\n",
       "Name: count, dtype: int64"
      ]
     },
     "execution_count": 25,
     "metadata": {},
     "output_type": "execute_result"
    }
   ],
   "source": [
    "train_df['SELF_EMPLOYED'].value_counts()"
   ]
  },
  {
   "cell_type": "code",
   "execution_count": 26,
   "metadata": {},
   "outputs": [
    {
     "data": {
      "text/html": [
       "<pre style=\"white-space:pre;overflow-x:auto;line-height:normal;font-family:Menlo,'DejaVu Sans Mono',consolas,'Courier New',monospace\"></pre>\n"
      ],
      "text/plain": []
     },
     "metadata": {},
     "output_type": "display_data"
    },
    {
     "data": {
      "text/plain": [
       "\u001b[1;35mset\u001b[0m\u001b[1m(\u001b[0m\u001b[1m)\u001b[0m"
      ]
     },
     "execution_count": 26,
     "metadata": {},
     "output_type": "execute_result"
    }
   ],
   "source": [
    "var = 'PROPERTY_AREA'\n",
    "set(train_df[var]).symmetric_difference(set(test_df[var]))"
   ]
  },
  {
   "cell_type": "code",
   "execution_count": null,
   "metadata": {},
   "outputs": [],
   "source": []
  },
  {
   "cell_type": "code",
   "execution_count": null,
   "metadata": {},
   "outputs": [],
   "source": []
  },
  {
   "cell_type": "code",
   "execution_count": null,
   "metadata": {},
   "outputs": [],
   "source": []
  },
  {
   "cell_type": "code",
   "execution_count": null,
   "metadata": {},
   "outputs": [],
   "source": []
  },
  {
   "cell_type": "code",
   "execution_count": null,
   "metadata": {},
   "outputs": [],
   "source": []
  },
  {
   "cell_type": "code",
   "execution_count": null,
   "metadata": {},
   "outputs": [],
   "source": []
  }
 ],
 "metadata": {
  "kernelspec": {
   "display_name": "finance-company-loan-prediction",
   "language": "python",
   "name": "python3"
  },
  "language_info": {
   "codemirror_mode": {
    "name": "ipython",
    "version": 3
   },
   "file_extension": ".py",
   "mimetype": "text/x-python",
   "name": "python",
   "nbconvert_exporter": "python",
   "pygments_lexer": "ipython3",
   "version": "3.11.9"
  }
 },
 "nbformat": 4,
 "nbformat_minor": 2
}
